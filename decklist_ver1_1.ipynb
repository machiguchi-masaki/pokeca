{
  "nbformat": 4,
  "nbformat_minor": 0,
  "metadata": {
    "colab": {
      "name": "decklist_ver1.1.ipynb",
      "provenance": [],
      "collapsed_sections": [],
      "include_colab_link": true
    },
    "kernelspec": {
      "display_name": "Python 3",
      "name": "python3"
    },
    "language_info": {
      "name": "python"
    }
  },
  "cells": [
    {
      "cell_type": "markdown",
      "metadata": {
        "id": "view-in-github",
        "colab_type": "text"
      },
      "source": [
        "<a href=\"https://colab.research.google.com/github/machiguchi-masaki/pokeca/blob/main/decklist_ver1_1.ipynb\" target=\"_parent\"><img src=\"https://colab.research.google.com/assets/colab-badge.svg\" alt=\"Open In Colab\"/></a>"
      ]
    },
    {
      "cell_type": "code",
      "metadata": {
        "id": "R-oF2oiRwZWI"
      },
      "source": [
        "#seleniumインストール＆ライブラリ\n",
        "!pip install selenium\n",
        "!apt-get update\n",
        "!apt install chromium-chromedriver\n",
        "!cp /usr/lib/chromium-browser/chromedriver /usr/bin\n",
        "\n",
        "from selenium import webdriver\n",
        "options = webdriver.ChromeOptions()\n",
        "options.add_argument('--headless')\n",
        "options.add_argument('--no-sandbox')\n",
        "options.add_argument('--disable-dev-shm-usage')\n",
        "\n",
        "from google.colab import drive\n",
        "from bs4 import BeautifulSoup\n",
        "import requests\n",
        "import pandas as pd\n",
        "from IPython.display import Image,display_jpeg\n",
        "import matplotlib.pyplot as plt\n",
        "from PIL import Image\n",
        "import cv2\n",
        "import numpy as np\n",
        "import matplotlib.pyplot as plt\n",
        "from IPython.display import display\n",
        "from IPython.display import clear_output\n",
        "\n",
        "clear_output()"
      ],
      "execution_count": null,
      "outputs": []
    },
    {
      "cell_type": "code",
      "metadata": {
        "id": "5wWQEDx6o-Ge"
      },
      "source": [
        "# 初期設定値及び、googledriveのマウント\n",
        "from google.colab import drive\n",
        "drive.mount('/content/drive')\n",
        "\n",
        "#デッキコード\n",
        "deckcode = 'kVbFFF-EEDGwz-FFkvVv'\n",
        "\n",
        "#作業フォルダ名(gogleドライブ/Mydrive/Pokemon/の下に作業フォルダを作成)\n",
        "dir_name = '白馬チラチーノ'\n",
        "\n",
        "#ファイル名\n",
        "list_name =\"list.csv\" #同じカードまとめた\n",
        "raw_name  =\"raw.csv\"  #同じカードまとめてない\n",
        "#firsthands_n.csv n回の初手7+1ドロー\n",
        "#firstsides_n.csv n回のサイド\n",
        "#firstdecks_n.csv n回のデッキに残っているカード\n",
        "\n",
        "#シュミレーション回数\n",
        "loop=1000"
      ],
      "execution_count": null,
      "outputs": []
    },
    {
      "cell_type": "code",
      "metadata": {
        "id": "KhYUNVAx79PU"
      },
      "source": [
        "##条件分岐対象##\n",
        "#種ポケモン\n",
        "basic_pokemons=['はくばバドレックスV','チラーミィ','デデンネGX','ミュウ']\n",
        "#最初に並べたいポケモン\n",
        "start_pokemons=['はくばバドレックスV']\n",
        "start_pokemon_balls=['クイックボール','ポケモン通信']\n",
        "#エネルギー\n",
        "energies=['基本水エネルギー','たっぷりバケツ']\n",
        "#アシストポケモン\n",
        "assist_pokemons=['チラーミィ']\n",
        "assist_pokemon_balls=['クイックボール','ポケモン通信','レベルボール']\n",
        "#ドロサポ\n",
        "supports=['博士の研究（マグノリア博士）','マリィ']\n",
        "##デデクロ\n",
        "dedekuros=['デデンネGX']\n",
        "##デデクロ\n",
        "dedekuro_balls=['クイックボール','ポケモン通信']\n",
        "#まとめる\n",
        "conditions=[basic_pokemons,start_pokemons,start_pokemon_balls,energies,assist_pokemons,assist_pokemon_balls,supports,dedekuros,dedekuro_balls]"
      ],
      "execution_count": null,
      "outputs": []
    },
    {
      "cell_type": "code",
      "metadata": {
        "id": "Z9PHrWlYpEut"
      },
      "source": [
        "#作業ディレクトリ作成\n",
        "tooldir = \"/content/drive/MyDrive/pokemon/\"\n",
        "!mkdir -v $tooldir\n",
        "workdir = \"/content/drive/MyDrive/pokemon/\" + dir_name\n",
        "!mkdir -v $workdir\n",
        "imagedir = workdir + \"/image\" \n",
        "!mkdir -v $imagedir"
      ],
      "execution_count": null,
      "outputs": []
    },
    {
      "cell_type": "code",
      "metadata": {
        "id": "p5hLZMCaoil4"
      },
      "source": [
        "#スクレイピング\n",
        "d = webdriver.Chrome('chromedriver',options=options)\n",
        "url =\"https://www.pokemon-card.com/deck/confirm.html?viewMode=image&deckID=\"+deckcode\n",
        "d.get(url)\n",
        "soup = BeautifulSoup(d.page_source, 'html.parser')\n",
        "\n",
        "imgBlocks = soup.select('.imgBlockArea')\n",
        "cPoss = soup.select(\"[class='cPos nowrap']\") \n",
        "\n",
        "for (imgBlock,cPos) in zip (imgBlocks,cPoss):\n",
        "    #print(cPos.text)\n",
        "    id   = imgBlock.img['id'].strip(\"img_\")\n",
        "    name = imgBlock.img['alt']\n",
        "    num  = cPos.text.strip('枚')\n",
        "    #print(id)\n",
        "    #print(name)\n",
        "    #print(num)"
      ],
      "execution_count": null,
      "outputs": []
    },
    {
      "cell_type": "code",
      "metadata": {
        "id": "6_pFpx5uvIcu"
      },
      "source": [
        "# デッキリスト及び画像を保存する\n",
        "\n",
        "# list_name(デッキリスト)の出力\n",
        "df_list = pd.DataFrame([],columns=['id','name','num'])\n",
        "filename = workdir + \"/\" +list_name\n",
        "for (imgBlock,cPos) in zip (imgBlocks,cPoss):\n",
        "    id   = imgBlock.img['id'].strip(\"img_\")\n",
        "    name = imgBlock.img['alt']\n",
        "    num  = cPos.text.strip('枚')\n",
        "    df_list = df_list.append({'id':id,'name':name,'num':num},ignore_index=True)\n",
        "df_list.to_csv(filename, index=False)\n",
        "print(filename + \"を保存しました\")\n",
        "\n",
        "#デッキリストに入っていないカードを条件に設定していないか\n",
        "for condition in conditions:\n",
        "  for item in condition:\n",
        "    if (item in df_list.values):\n",
        "      pass\n",
        "    else:\n",
        "      print(item+'はデッキに入っていません')\n",
        "      raise ValueError(item+'はデッキに入っていません')\n",
        "\n",
        "# raw_name(同じカードをまとめてないリスト)の出力\n",
        "df_list = pd.read_csv(filename)\n",
        "df_raw = pd.DataFrame([],columns=['id','name'])\n",
        "filename = workdir + \"/\" +raw_name\n",
        "for row, item in df_list.iterrows():\n",
        "  for i in range(item['num']):\n",
        "    df_raw = df_raw.append({'id':item['id'],'name':item['name']},ignore_index=True)\n",
        "df_raw.to_csv(filename, index=False)\n",
        "print(filename + \"を保存しました\")\n",
        "\n",
        "# カード画像を保存する\n",
        "for imgBlock in imgBlocks:\n",
        "  id   = imgBlock.img['id'].strip(\"img_\")   \n",
        "  img_url = 'https://www.pokemon-card.com/' + imgBlock.img['src']\n",
        "  r = requests.get(img_url)\n",
        "  filename = workdir+'/image/' + id +'.jpg'\n",
        "  with open(filename,'wb') as file:\n",
        "    file.write(r.content)\n",
        "    "
      ],
      "execution_count": null,
      "outputs": []
    },
    {
      "cell_type": "code",
      "metadata": {
        "id": "qOpteAFEzcYE"
      },
      "source": [
        "#関数\n",
        "\n",
        "#引き直しチェック\n",
        "def basic_pokemon_check(df_hands):\n",
        "  result = False\n",
        "  for basic_pokemon in basic_pokemons:\n",
        "    if (basic_pokemon in df_hands.values):\n",
        "      result = True\n",
        "  return result\n"
      ],
      "execution_count": null,
      "outputs": []
    },
    {
      "cell_type": "code",
      "metadata": {
        "id": "8Turw-o5BYJT"
      },
      "source": [
        "#n回シュミレーション\n",
        "df_deck = df_raw\n",
        "df_firsthands_id = pd.DataFrame([])\n",
        "df_firsthands_name = pd.DataFrame([])\n",
        "df_side_id = pd.DataFrame([])\n",
        "df_side_name = pd.DataFrame([])\n",
        "df_deck_id = pd.DataFrame([])\n",
        "df_deck_name = pd.DataFrame([])\n",
        "count_hikinaoshi = 0\n",
        "for i in range(loop):\n",
        "  #初期化\n",
        "  df_deck = df_raw\n",
        "  #初手の7枚を抽出し、ソートする\n",
        "  while True:\n",
        "    df_first = df_deck.sample(n=7).sort_index()\n",
        "    if (basic_pokemon_check(df_first)):\n",
        "      break\n",
        "    else:\n",
        "      count_hikinaoshi = count_hikinaoshi+1\n",
        "  df_deck = df_deck.drop(df_first.index)\n",
        "  #サイドを6枚抽し、ソートする\n",
        "  df_side = df_deck.sample(n=6).sort_index()\n",
        "  df_deck = df_deck.drop(df_side.index)\n",
        "  #ドロー\n",
        "  df_draw = df_deck.sample(n=1).sort_index()\n",
        "  df_deck = df_deck.drop(df_draw.index)\n",
        "\n",
        "  #初手とドローを結合\n",
        "  df_first = pd.concat([df_first,df_draw]).reset_index(drop=True)\n",
        "  df_side=df_side.reset_index(drop=True)\n",
        "  df_deck=df_deck.reset_index(drop=True)\n",
        "\n",
        "  #i回目の結果を保存\n",
        "  df_firsthands_id[str(i+1)+\"回目\"]=df_first['id']\n",
        "  df_firsthands_name[str(i+1)+\"回目\"]=df_first['name']\n",
        "  df_side_id[str(i+1)+\"回目\"]=df_side['id']\n",
        "  df_side_name[str(i+1)+\"回目\"]=df_side['name']\n",
        "  df_deck_id[str(i+1)+\"回目\"]=df_deck['id']\n",
        "  df_deck_name[str(i+1)+\"回目\"]=df_deck['name']\n",
        "\n",
        "#初手リストを保存\n",
        "filename= workdir + \"/hands\"  + \".csv\"\n",
        "df_firsthands_name.to_csv(filename, index=False)\n",
        "#サイドリストを保存\n",
        "filename= workdir + \"/sides_\"  + \".csv\"\n",
        "df_side_name.to_csv(filename, index=False)\n",
        "#デッキリストを保存\n",
        "filename= workdir + \"/decks\"  + \".csv\"\n",
        "df_deck_name.to_csv(filename, index=False)\n"
      ],
      "execution_count": null,
      "outputs": []
    },
    {
      "cell_type": "code",
      "metadata": {
        "id": "7ZePSB2BL0vD"
      },
      "source": [
        "def pokemon_check():\n",
        "  #n通りの手札分繰り返し\n",
        "  for index,df_hand in df_hands.iterrows():\n",
        "    #手札を１枚ずつ（value）確認し、条件を満たすとresultはTrue\n",
        "    result = False\n",
        "    for num,value in df_hand.iteritems():\n",
        "      #手札にポケモンがあるかどうか\n",
        "      if (value in start_pokemons):      \n",
        "        result = True\n",
        "      #手札にボールがあり、スタートポケモンがデッキにいるかどうか\n",
        "      if (value in start_pokemon_balls):\n",
        "        for start_pokemon in start_pokemons:\n",
        "          if (start_pokemon in df_deck.loc[index].values):\n",
        "                result = True\n",
        "                break\n",
        "      #checkがTrueの時点で手札の確認を終了し、チェック結果を更新しそのカードを使用済みに変更する\n",
        "      if (result):\n",
        "        df_hands.loc[index,'ポケモンチェック']=True\n",
        "        df_hands.loc[index,num]='使用済み_'+value\n",
        "        break\n",
        "  \n",
        "def enerugy_check():\n",
        "  #n通りの手札分繰り返し\n",
        "  for index,df_hand in df_hands.iterrows():\n",
        "    #手札を１枚ずつ（value）確認し、条件を満たすとresultはTrue\n",
        "    result = False\n",
        "    for num,value in df_hand.iteritems():\n",
        "      #手札にポケモンがあるかどうか\n",
        "      if (value in energies):      \n",
        "        result = True\n",
        "      #checkがTrueの時点で手札の確認を終了し、チェック結果を更新しそのカードを使用済みに変更する\n",
        "      if (result):\n",
        "        df_hands.loc[index,'エネルギーチェック']=True\n",
        "        df_hands.loc[index,num]='使用済み_'+value\n",
        "        break\n",
        "\n",
        "  \n",
        "def assist_check():\n",
        "  #n通りの手札分繰り返し\n",
        "  for index,df_hand in df_hands.iterrows():\n",
        "    #手札を１枚ずつ（value）確認し、条件を満たすとcountup\n",
        "    count=0\n",
        "    for num,value in df_hand.iteritems():\n",
        "      #手札にポケモンがあるかどうか\n",
        "      if (value in assist_pokemons):      \n",
        "        count = count +1\n",
        "        df_hands.loc[index,num]='使用済み_'+value\n",
        "      #手札にボールがあり、ポケモンがデッキにいるかどうか\n",
        "      if (value in assist_pokemon_balls):\n",
        "        for start_pokemon in start_pokemons:\n",
        "          if (start_pokemon in df_deck.loc[index].values):\n",
        "                count = count +1\n",
        "                df_hands.loc[index,num]='使用済み_'+value\n",
        "    #合計枚数を出力\n",
        "    if(count>1):\n",
        "      df_hands.loc[index,'アシストチェック']=2\n",
        "    if(count==1):\n",
        "      df_hands.loc[index,'アシストチェック']=1\n",
        "\n",
        "def support_check():\n",
        "  #n通りの手札分繰り返し\n",
        "  for index,df_hand in df_hands.iterrows():\n",
        "    #手札を１枚ずつ（value）確認し、条件を満たすとresultはTrue\n",
        "    result = False\n",
        "    for num,value in df_hand.iteritems():\n",
        "      #手札にサポートがあるかどうか\n",
        "      if (value in supports):      \n",
        "        result = True\n",
        "      #checkがTrueの時点で手札の確認を終了し、チェック結果を更新しそのカードを使用済みに変更する\n",
        "      if (result):\n",
        "        df_hands.loc[index,'ドロサポチェック']=True\n",
        "        df_hands.loc[index,num]='使用済み_'+value\n",
        "        break\n",
        "\n",
        "def dedekuro_check():\n",
        "  #n通りの手札分繰り返し\n",
        "  for index,df_hand in df_hands.iterrows():\n",
        "    #手札を１枚ずつ（value）確認し、条件を満たすとresultはTrue\n",
        "    result = False\n",
        "    basic_count=0\n",
        "    dedekuro_count=0\n",
        "    for num,value in df_hand[0:8].iteritems():\n",
        "      #手札の7枚目までの種ポケモンとデデンネの数を数える\n",
        "      if (int(num)<=6):\n",
        "        if (value in basic_pokemons):\n",
        "          basic_count=basic_count+1\n",
        "        if (value in dedekuros):\n",
        "          basic_count=basic_count+1\n",
        "      #手札にデデンネがあるかどうか\n",
        "      if (value in dedekuros):      \n",
        "        result = True\n",
        "      #手札にボールがあり、デデクロがデッキにいるかどうか\n",
        "      if (value in dedekuro_balls):\n",
        "        for pokemon in dedekuros:\n",
        "          if (pokemon in df_deck.loc[index].values):\n",
        "            result = True\n",
        "   #デデンネスタートないかつ、デデンネが手札にある、または触れるなら\n",
        "    if (basic_count!=dedekuro_count and result==True):\n",
        "      df_hands.loc[index,'デデクロチェック']=True\n",
        "    \n"
      ],
      "execution_count": null,
      "outputs": []
    },
    {
      "cell_type": "code",
      "metadata": {
        "id": "jprfo7n25q-x"
      },
      "source": [
        "df_firsthands_name.loc['ポケモンチェック']=False\n",
        "df_firsthands_name.loc['エネルギーチェック']=False\n",
        "df_firsthands_name.loc['アシストチェック']=0\n",
        "df_firsthands_name.loc['ドロサポチェック']=False\n",
        "df_firsthands_name.loc['デデクロチェック']=False\n",
        "df_firsthands_name.loc['sum']=1\n",
        "df_hands = df_firsthands_name.T.copy()\n",
        "df_deck = df_deck_name.T.copy()\n",
        "\n",
        "#デデクロチェック\n",
        "dedekuro_check()\n",
        "#スタートポケモンチェック\n",
        "pokemon_check()\n",
        "#エネルギーチェック\n",
        "enerugy_check()\n",
        "#アシストチェック\n",
        "assist_check()\n",
        "#サポートチェック\n",
        "support_check()\n"
      ],
      "execution_count": null,
      "outputs": []
    },
    {
      "cell_type": "code",
      "metadata": {
        "id": "EF4EHR652YbR"
      },
      "source": [
        "for index,df_hand in df_hands.iterrows():\n",
        " # if(df_hand['ポケモンチェック']=False and df_hand['エネルギーチェック']=False and df_hand['アシストチェック']=0 and df_hand['ドロサポチェック']=False ):\n",
        "  if (df_hand['ポケモンチェック']==False or df_hand['エネルギーチェック']==False):\n",
        "    df_hands.loc[index,'結果']='3.事故'\n",
        "  #elif ((df_hand['ポケモンチェック']==True and df_hand['エネルギーチェック']==True) and df_hand['アシストチェック']>1):\n",
        "  #  df_hands.loc[index,'結果']='1.最高'\n",
        "  elif ( df_hand['ポケモンチェック']==True and df_hand['エネルギーチェック']==True and df_hand['アシストチェック']>=1 and df_hand['ドロサポチェック']==True):\n",
        "    df_hands.loc[index,'結果']='1.最高'\n",
        "  else:\n",
        "    df_hands.loc[index,'結果']='2.普通'\n",
        "\n",
        "display(df_hands['結果'].value_counts())\n",
        "\n"
      ],
      "execution_count": null,
      "outputs": []
    },
    {
      "cell_type": "code",
      "metadata": {
        "id": "b7McLbsZT6mw"
      },
      "source": [
        "for index,df_hand in df_hands.iterrows():\n",
        " # if(df_hand['ポケモンチェック']=False and df_hand['エネルギーチェック']=False and df_hand['アシストチェック']=0 and df_hand['ドロサポチェック']=False ):\n",
        "  if (df_hand['結果']=='3.事故' and df_hand['デデクロチェック']==True):\n",
        "    df_hands.loc[index,'結果']='4.事故(デデンネが使える)'\n",
        "\n",
        "\n"
      ],
      "execution_count": null,
      "outputs": []
    },
    {
      "cell_type": "code",
      "metadata": {
        "id": "tRXcftG7LQgO"
      },
      "source": [
        "#画像作成\n",
        "def create_monochromatic_img(color, size):\n",
        "    r = color[0] * np.ones((size[1], size[0], 1), dtype=np.uint8)\n",
        "    g = color[1] * np.ones((size[1], size[0], 1), dtype=np.uint8)\n",
        "    b = color[2] * np.ones((size[1], size[0], 1), dtype=np.uint8)\n",
        "    return np.concatenate([r, g, b], axis=2)\n",
        "\n",
        "color = [255, 255, 255] #[r,g,b]\n",
        "size = [100,1044] #[height,width]\n",
        "img = create_monochromatic_img(color, size)\n",
        "\n",
        "good = cv2.imread('/content/drive/MyDrive/北町共有/good.jpg')\n",
        "normal = cv2.imread('/content/drive/MyDrive/北町共有/normal.jpg')\n",
        "bad = cv2.imread('/content/drive/MyDrive/北町共有/bad.jpg')\n"
      ],
      "execution_count": null,
      "outputs": []
    },
    {
      "cell_type": "code",
      "metadata": {
        "id": "yRSGkNsGFtP-"
      },
      "source": [
        "image=list(range(0,10000000))\n",
        "i = 1\n",
        "df_hands_id=df_firsthands_id.T.copy()\n",
        "df_hands_id['8']=df_hands['結果']\n",
        "for index,df_hand_id in df_hands_id.iterrows():\n",
        "  if (index=='101回目'):\n",
        "    break\n",
        "  for num,value in df_hand_id.iteritems():\n",
        "    if (int(num)<=7):\n",
        "      tmp = cv2.imread(imagedir + \"/\" + str(value) + \".jpg\")\n",
        "    elif (int(num)==8):\n",
        "      if (value=='1.最高'):\n",
        "        tmp = good\n",
        "      elif (value=='2.普通'):\n",
        "        tmp = normal\n",
        "      elif (value=='3.事故' or value=='4.事故(デデンネが使える)'):\n",
        "        tmp = bad\n",
        "    image[i]=cv2.cvtColor(tmp, cv2.COLOR_BGR2RGB)\n",
        "    i=i+1\n"
      ],
      "execution_count": null,
      "outputs": []
    },
    {
      "cell_type": "markdown",
      "metadata": {
        "id": "HW8bcdvOX6i6"
      },
      "source": [
        "# **実行結果**\n",
        "\n",
        "---\n",
        "\n"
      ]
    },
    {
      "cell_type": "code",
      "metadata": {
        "id": "03D1qRW9X5sU"
      },
      "source": [
        "from pprint import pprint\n",
        "result = (df_hands['結果'].value_counts())\n",
        "a = result['1.最高']\n",
        "b = result['2.普通']\n",
        "c = result['3.事故']\n",
        "d = result['4.事故(デデンネが使える)']\n",
        "\n",
        "print('1.最高は{:.1%}'.format(a/loop))\n",
        "print('2.普通は{:.1%}'.format(b/loop))\n",
        "print('3.事故は{:.1%}'.format(c/loop))\n",
        "print('4.事故(デデンネが使える)は{:.1%}\\n'.format(d/loop))\n",
        "\n",
        "pprint(result)\n",
        "\n",
        "a =pd.pivot_table(df_hands,values='sum',index=['ポケモンチェック','エネルギーチェック','アシストチェック','ドロサポチェック'],columns=[],aggfunc='sum',margins=True,margins_name='TOTAL')\n",
        "display(a.iloc[::-1])"
      ],
      "execution_count": null,
      "outputs": []
    },
    {
      "cell_type": "code",
      "metadata": {
        "id": "jb4dBOvMYmcw"
      },
      "source": [
        ""
      ],
      "execution_count": null,
      "outputs": []
    },
    {
      "cell_type": "code",
      "metadata": {
        "id": "mirK8tqbLUu_"
      },
      "source": [
        "for j in range(0,10):\n",
        "  imgname= workdir + \"/hands_result\" +str(j)\n",
        "  plt.figure(figsize=(10, 20))\n",
        "  plt.subplots_adjust(wspace=0.0, hspace=0.0)\n",
        "  print(imgname+ '.jpg')\n",
        "  for i in range(1,91):\n",
        "    a =i+90*j\n",
        "    plt.subplot(10,9,i)\n",
        "    plt.subplots_adjust(hspace=0.01,wspace=-0)\n",
        "    plt.tick_params(labelbottom=\"off\")\n",
        "    plt.tick_params(labelleft=\"off\")\n",
        "    plt.tick_params(bottom=\"off\")\n",
        "    plt.tick_params(left=\"off\")\n",
        "    plt.gca().spines['right'].set_visible(False)\n",
        "    plt.gca().spines['top'].set_visible(False)\n",
        "    plt.gca().spines['left'].set_visible(False)\n",
        "    plt.gca().spines['bottom'].set_visible(False)\n",
        "    plt.rcParams[\"font.size\"] = 20\n",
        "    plt.axis(\"off\")\n",
        "    plt.imshow(image[a]) \n",
        "  plt.savefig(imgname + '.jpg')"
      ],
      "execution_count": null,
      "outputs": []
    }
  ]
}